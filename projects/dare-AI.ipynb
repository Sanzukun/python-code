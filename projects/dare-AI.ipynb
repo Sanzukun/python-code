{
 "cells": [
  {
   "cell_type": "markdown",
   "metadata": {},
   "source": [
    "### Extracting Text from PDFs"
   ]
  },
  {
   "cell_type": "code",
   "execution_count": 5,
   "metadata": {},
   "outputs": [
    {
     "data": {
      "text/plain": [
       "'C:\\\\Users\\\\TiffanyS\\\\OneDrive - University of Sussex\\\\github\\\\python-code\\\\projects'"
      ]
     },
     "execution_count": 5,
     "metadata": {},
     "output_type": "execute_result"
    }
   ],
   "source": [
    "# use glob lib to get fileNames\n",
    "import glob\n",
    "import os\n",
    "fpath = os.path.abspath(os.getcwd())\n",
    "\n",
    "fileNames = glob.glob(fpath+\"/PDFs/*.pdf\") #gets all pdf documents in given directory \n",
    "\n",
    "# create pdf extraction object and initialise with fileNames\n",
    "pdf_obj = pdf_extraction(fileNames)\n",
    "\n",
    "# get pdfs as a list of lists (that contains each pdf doc as a long string)\n",
    "mypdfs = pdf_obj.get_pdfs_as_text()\n",
    "\n",
    "# print results of our pdf files\n",
    "mypdfs"
   ]
  },
  {
   "cell_type": "code",
   "execution_count": 5,
   "metadata": {},
   "outputs": [
    {
     "data": {
      "text/plain": [
       "'C:\\\\Users\\\\TiffanyS\\\\OneDrive - University of Sussex\\\\github\\\\python-code\\\\projects'"
      ]
     },
     "execution_count": 5,
     "metadata": {},
     "output_type": "execute_result"
    }
   ],
   "source": [
    "from pdf_paula import pdf_extraction\n",
    "\n",
    "# create pdf extraction object and initialise with fileNames\n",
    "pdf_obj = pdf_extraction(fileNames)\n",
    "\n",
    "# get pdfs as a list of lists (that contains each pdf doc as a long string)\n",
    "mypdfs = pdf_obj.get_pdfs_as_text()\n",
    "\n",
    "# print results of our pdf files\n",
    "mypdfs"
   ]
  },
  {
   "cell_type": "code",
   "execution_count": null,
   "metadata": {},
   "outputs": [],
   "source": []
  }
 ],
 "metadata": {
  "kernelspec": {
   "display_name": "Python 3",
   "language": "python",
   "name": "python3"
  },
  "language_info": {
   "codemirror_mode": {
    "name": "ipython",
    "version": 3
   },
   "file_extension": ".py",
   "mimetype": "text/x-python",
   "name": "python",
   "nbconvert_exporter": "python",
   "pygments_lexer": "ipython3",
   "version": "3.7.3"
  }
 },
 "nbformat": 4,
 "nbformat_minor": 2
}
