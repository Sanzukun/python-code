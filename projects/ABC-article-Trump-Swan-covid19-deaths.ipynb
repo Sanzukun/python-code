{
 "cells": [
  {
   "cell_type": "markdown",
   "metadata": {},
   "source": [
    "source: https://www.abc.net.au/news/2020-08-05/donald-trump-axios-interview-jonathan-swan/12524552\n",
    "# ABC article: Trump and Swan talk about Covid19 deaths\n",
    "This notebook was inspired partly by an Aussie ABC article and completely by a family member posted this article to a family WhatsApp group chat. The interview really struck a curiousity in me - not because I am a Trump supporter (actually quite the contrary) but because the interviewer actually didn't make much sense to me from a statistical viewpoint when he says **\"death as a proportion of population\"**. The questions I initially had were:\n",
    "- do we really need to know the population of people tested for Covid19? Such as Trump's perspective.\n",
    "    - if so, how do we use this statistic to influence a perspective?\n",
    "- given the overall population size of two countries and a death rate from covid19, can we make assumptions about the death toll of covid19 for a given country?\n",
    "    - if so, how do we interpret deaths? \n",
    "        - do we consider all deaths (by all causes including covid19) by total overall population\n",
    "        - do we consider testing rate for a given country?\n",
    "            - **this is interesting!** So when we say *death by covid19* we infer that those people first tested positive for covid19 and as a result of the order of least precedence, we conclude this person died of covid19\n",
    "                - another interesting avenue to consider here would be to get the cases of comorbidity among those that are considered in the statistic of *death by covid19*. Comorbidity in this case being the cooccurrence of other existing medical conditions in addition to covid19.\n",
    "    - if so, how do we influence an audience to consider well-known political issues that exist today? Such as healthcare access in the USA, political structures for each country, etc."
   ]
  },
  {
   "cell_type": "markdown",
   "metadata": {},
   "source": [
    "### Analysis\n",
    "From [this ABC article](https://www.abc.net.au/news/2020-08-05/donald-trump-axios-interview-jonathan-swan/12524552), we can distinguish two perspectives from a statistical viewpoint:\n",
    "- death as a proportion of cases (Trump)\n",
    "- death as a proportion of population (interviewer)"
   ]
  },
  {
   "cell_type": "code",
   "execution_count": 1,
   "metadata": {},
   "outputs": [],
   "source": [
    "# define a function to handle statistical output\n",
    "def stats(country, pop_all, pop_covid19, covid19_deaths):\n",
    "    print(f'stats printed for {country}')\n",
    "    for p in [pop_all, pop_covid19]:\n",
    "        res=0\n",
    "        print(f'\\n\\n{p}\\tstart with a total pop')\n",
    "        res = covid19_deaths/p\n",
    "        print(f'{res}\\tdivide num of covid19 deaths by total pop')\n",
    "        print(\"%.02f%%\\tmake into percentage\" % (res * 100))"
   ]
  },
  {
   "cell_type": "code",
   "execution_count": 2,
   "metadata": {},
   "outputs": [
    {
     "name": "stdout",
     "output_type": "stream",
     "text": [
      "stats printed for south korea\n",
      "\n",
      "\n",
      "51709098\tstart with a total pop\n",
      "5.840364881243916e-06\tdivide num of covid19 deaths by total pop\n",
      "0.00%\tmake into percentage\n",
      "\n",
      "\n",
      "14499\tstart with a total pop\n",
      "0.020829022691220084\tdivide num of covid19 deaths by total pop\n",
      "2.08%\tmake into percentage\n"
     ]
    }
   ],
   "source": [
    "# get stats for south korea\n",
    "# population size based on World Bank population API\n",
    "stats('south korea', 51709098, 14499, 302)"
   ]
  },
  {
   "cell_type": "code",
   "execution_count": 3,
   "metadata": {},
   "outputs": [
    {
     "name": "stdout",
     "output_type": "stream",
     "text": [
      "stats printed for usa\n",
      "\n",
      "\n",
      "328239523\tstart with a total pop\n",
      "0.0015710509060177984\tdivide num of covid19 deaths by total pop\n",
      "0.16%\tmake into percentage\n",
      "\n",
      "\n",
      "5729795\tstart with a total pop\n",
      "0.08999990401052743\tdivide num of covid19 deaths by total pop\n",
      "9.00%\tmake into percentage\n"
     ]
    }
   ],
   "source": [
    "# get stats for usa\n",
    "# population size based on World Bank population API\n",
    "stats('usa', 328239523, 5729795, 515681)"
   ]
  },
  {
   "cell_type": "markdown",
   "metadata": {},
   "source": [
    "Let's say we are interested in a total overall population as we only want to know who died as a result of covid19. Obviously to get a covid19 death count, we assume those persons first tested positive for covid19. This raises an interesting query, if a person was not first tested positive for covid19, then the death of that person would not constitute a covid19 death, right? This brings us to the question - should we consider the rate of testing in each country. Let's consider the case where $x$ people were never tested for covid19, that would result in $x$ non-covid19 deaths, i.e., their death would not be considered in our death count. \n",
    "\n",
    "Let's consider the count of individuals tested for covid19 for each country's total overall population."
   ]
  },
  {
   "cell_type": "code",
   "execution_count": 4,
   "metadata": {},
   "outputs": [],
   "source": [
    "# define a function to handle rate of testing percentage\n",
    "def rate_of_testing(country, total_tested, pop_all):\n",
    "    print(f\"%.02f%% rate of testing in {country}\" % (100*( total_tested/ pop_all)))"
   ]
  },
  {
   "cell_type": "code",
   "execution_count": 5,
   "metadata": {},
   "outputs": [
    {
     "name": "stdout",
     "output_type": "stream",
     "text": [
      "3.11% rate of testing in south korea\n"
     ]
    }
   ],
   "source": [
    "# http://ncov.mohw.go.kr/en/ - total tested: 1,606,487 \n",
    "rate_of_testing('south korea', 1606487, 51600000)"
   ]
  },
  {
   "cell_type": "code",
   "execution_count": 6,
   "metadata": {},
   "outputs": [
    {
     "name": "stdout",
     "output_type": "stream",
     "text": [
      "19.36% rate of testing in usa\n"
     ]
    }
   ],
   "source": [
    "# source: https://www.cdc.gov/coronavirus/2019-ncov/cases-updates/testing-in-us.html - total tested: 63,537,614\n",
    "rate_of_testing('usa', 63537614, 328200000)"
   ]
  },
  {
   "cell_type": "code",
   "execution_count": null,
   "metadata": {},
   "outputs": [],
   "source": []
  }
 ],
 "metadata": {
  "kernelspec": {
   "display_name": "Python 3",
   "language": "python",
   "name": "python3"
  },
  "language_info": {
   "codemirror_mode": {
    "name": "ipython",
    "version": 3
   },
   "file_extension": ".py",
   "mimetype": "text/x-python",
   "name": "python",
   "nbconvert_exporter": "python",
   "pygments_lexer": "ipython3",
   "version": "3.7.4"
  }
 },
 "nbformat": 4,
 "nbformat_minor": 2
}
