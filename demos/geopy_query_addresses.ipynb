{
 "cells": [
  {
   "cell_type": "markdown",
   "metadata": {},
   "source": [
    "# Author: Tiffany Seeley\n",
    "\n",
    "Github repo: https://github.com/tiffsea\n",
    "\n",
    "Demo video: https://www.youtube.com/watch?v=gJMHbW3MK2w\n",
    "\n",
    "Project: React-Maps-UK-Housing-Prices\n",
    "\n",
    "## Installation:\n",
    "\n",
    "Use Anaconda Prompt command prompt/terminal from your machine to ensure you can import geocoders successfully"
   ]
  },
  {
   "cell_type": "code",
   "execution_count": 1,
   "metadata": {},
   "outputs": [
    {
     "name": "stdout",
     "output_type": "stream",
     "text": [
      "Requirement already satisfied: geopy in /Users/TS/opt/anaconda3/lib/python3.7/site-packages (2.0.0)\n",
      "Requirement already satisfied: geographiclib<2,>=1.49 in /Users/TS/opt/anaconda3/lib/python3.7/site-packages (from geopy) (1.50)\n",
      "Note: you may need to restart the kernel to use updated packages.\n"
     ]
    }
   ],
   "source": [
    "pip install geopy"
   ]
  },
  {
   "cell_type": "markdown",
   "metadata": {},
   "source": [
    "import pandas for calculations and nominatim for geopy API"
   ]
  },
  {
   "cell_type": "code",
   "execution_count": 2,
   "metadata": {
    "scrolled": true
   },
   "outputs": [],
   "source": [
    "#prereq libraries\n",
    "import pandas as pd\n",
    "from geopy.geocoders import Nominatim"
   ]
  },
  {
   "cell_type": "markdown",
   "metadata": {},
   "source": [
    "## First, format your data file"
   ]
  },
  {
   "cell_type": "markdown",
   "metadata": {},
   "source": [
    "you should prepare a csv file that has your address data on it, then name it `data.csv`. \n",
    "- If your address data file has a different file name, then you must change the name in the first line of code below."
   ]
  },
  {
   "cell_type": "code",
   "execution_count": 3,
   "metadata": {},
   "outputs": [],
   "source": [
    "#read-in csv file and create column headers according to UK housing site\n",
    "df = pd.read_csv(\"data.csv\", #file name\n",
    "                 sep=',') #seperator"
   ]
  },
  {
   "cell_type": "code",
   "execution_count": 4,
   "metadata": {},
   "outputs": [
    {
     "data": {
      "text/html": [
       "<div>\n",
       "<style scoped>\n",
       "    .dataframe tbody tr th:only-of-type {\n",
       "        vertical-align: middle;\n",
       "    }\n",
       "\n",
       "    .dataframe tbody tr th {\n",
       "        vertical-align: top;\n",
       "    }\n",
       "\n",
       "    .dataframe thead th {\n",
       "        text-align: right;\n",
       "    }\n",
       "</style>\n",
       "<table border=\"1\" class=\"dataframe\">\n",
       "  <thead>\n",
       "    <tr style=\"text-align: right;\">\n",
       "      <th></th>\n",
       "      <th>COMPANY</th>\n",
       "      <th>STREET_ADDRESS</th>\n",
       "      <th>CITY</th>\n",
       "      <th>STATE</th>\n",
       "      <th>DISTRICT</th>\n",
       "      <th>COUNTY</th>\n",
       "      <th>COUNTRY</th>\n",
       "      <th>POSTCODE</th>\n",
       "    </tr>\n",
       "  </thead>\n",
       "  <tbody>\n",
       "    <tr>\n",
       "      <td>0</td>\n",
       "      <td>University of Sussex</td>\n",
       "      <td>NaN</td>\n",
       "      <td>Brighton</td>\n",
       "      <td>NaN</td>\n",
       "      <td>NaN</td>\n",
       "      <td>NaN</td>\n",
       "      <td>UK</td>\n",
       "      <td>NaN</td>\n",
       "    </tr>\n",
       "  </tbody>\n",
       "</table>\n",
       "</div>"
      ],
      "text/plain": [
       "                COMPANY  STREET_ADDRESS      CITY  STATE  DISTRICT  COUNTY  \\\n",
       "0  University of Sussex             NaN  Brighton    NaN       NaN     NaN   \n",
       "\n",
       "  COUNTRY  POSTCODE  \n",
       "0      UK       NaN  "
      ]
     },
     "execution_count": 4,
     "metadata": {},
     "output_type": "execute_result"
    }
   ],
   "source": [
    "# print the data\n",
    "df.head()"
   ]
  },
  {
   "cell_type": "markdown",
   "metadata": {},
   "source": [
    "let's concatenate a few column names to create a long string of any given address in our `data.csv` file. This column will be used a query term for the geoPy API."
   ]
  },
  {
   "cell_type": "code",
   "execution_count": 5,
   "metadata": {},
   "outputs": [
    {
     "data": {
      "text/html": [
       "<div>\n",
       "<style scoped>\n",
       "    .dataframe tbody tr th:only-of-type {\n",
       "        vertical-align: middle;\n",
       "    }\n",
       "\n",
       "    .dataframe tbody tr th {\n",
       "        vertical-align: top;\n",
       "    }\n",
       "\n",
       "    .dataframe thead th {\n",
       "        text-align: right;\n",
       "    }\n",
       "</style>\n",
       "<table border=\"1\" class=\"dataframe\">\n",
       "  <thead>\n",
       "    <tr style=\"text-align: right;\">\n",
       "      <th></th>\n",
       "      <th>query</th>\n",
       "    </tr>\n",
       "  </thead>\n",
       "  <tbody>\n",
       "    <tr>\n",
       "      <td>0</td>\n",
       "      <td>University of Sussex Brighton UK</td>\n",
       "    </tr>\n",
       "  </tbody>\n",
       "</table>\n",
       "</div>"
      ],
      "text/plain": [
       "                              query\n",
       "0  University of Sussex Brighton UK"
      ]
     },
     "execution_count": 5,
     "metadata": {},
     "output_type": "execute_result"
    }
   ],
   "source": [
    "#create variable column inside file called `myAddress and assign it to seleted address columns\n",
    "df['query'] = df['COMPANY'] + \" \" + df['CITY'] + \" \" +  df['COUNTRY']\n",
    "\n",
    "#print new column with index -first 5 rows only\n",
    "df.iloc[0:5, 8:9]"
   ]
  },
  {
   "cell_type": "markdown",
   "metadata": {},
   "source": [
    "next we will remove duplicate addresses, keeping the\n",
    "first instance of the query address\n",
    "- __TIP__: sort the data for most current address if applicable."
   ]
  },
  {
   "cell_type": "code",
   "execution_count": 6,
   "metadata": {
    "scrolled": true
   },
   "outputs": [
    {
     "name": "stdout",
     "output_type": "stream",
     "text": [
      "data row x columns is (1, 9)\n",
      "data row count is 1\n"
     ]
    },
    {
     "data": {
      "text/html": [
       "<div>\n",
       "<style scoped>\n",
       "    .dataframe tbody tr th:only-of-type {\n",
       "        vertical-align: middle;\n",
       "    }\n",
       "\n",
       "    .dataframe tbody tr th {\n",
       "        vertical-align: top;\n",
       "    }\n",
       "\n",
       "    .dataframe thead th {\n",
       "        text-align: right;\n",
       "    }\n",
       "</style>\n",
       "<table border=\"1\" class=\"dataframe\">\n",
       "  <thead>\n",
       "    <tr style=\"text-align: right;\">\n",
       "      <th></th>\n",
       "      <th>COMPANY</th>\n",
       "      <th>STREET_ADDRESS</th>\n",
       "      <th>CITY</th>\n",
       "      <th>STATE</th>\n",
       "      <th>DISTRICT</th>\n",
       "      <th>COUNTY</th>\n",
       "      <th>COUNTRY</th>\n",
       "      <th>POSTCODE</th>\n",
       "      <th>query</th>\n",
       "    </tr>\n",
       "  </thead>\n",
       "  <tbody>\n",
       "    <tr>\n",
       "      <td>0</td>\n",
       "      <td>University of Sussex</td>\n",
       "      <td>NaN</td>\n",
       "      <td>Brighton</td>\n",
       "      <td>NaN</td>\n",
       "      <td>NaN</td>\n",
       "      <td>NaN</td>\n",
       "      <td>UK</td>\n",
       "      <td>NaN</td>\n",
       "      <td>University of Sussex Brighton UK</td>\n",
       "    </tr>\n",
       "  </tbody>\n",
       "</table>\n",
       "</div>"
      ],
      "text/plain": [
       "                COMPANY  STREET_ADDRESS      CITY  STATE  DISTRICT  COUNTY  \\\n",
       "0  University of Sussex             NaN  Brighton    NaN       NaN     NaN   \n",
       "\n",
       "  COUNTRY  POSTCODE                             query  \n",
       "0      UK       NaN  University of Sussex Brighton UK  "
      ]
     },
     "execution_count": 6,
     "metadata": {},
     "output_type": "execute_result"
    }
   ],
   "source": [
    "#remove duplicate addresses (new concat column) but keep first instance\n",
    "df.drop_duplicates(subset ='query', keep ='first', inplace = True)\n",
    "\n",
    "#print some useful info: row length and shape size\n",
    "print(\"data row x columns is {}\\ndata row count is {}\".format(df.shape,len(df.index)))\n",
    "\n",
    "#print first rows as sample\n",
    "df.head()"
   ]
  },
  {
   "cell_type": "markdown",
   "metadata": {},
   "source": [
    "### *OPTIONAL*:\n",
    "Drop columns you won't use. This can be particularly helpful when your data file is enormous, otherwise, feel free to skip the next step"
   ]
  },
  {
   "cell_type": "code",
   "execution_count": 7,
   "metadata": {
    "scrolled": true
   },
   "outputs": [
    {
     "name": "stdout",
     "output_type": "stream",
     "text": [
      "data row x columns is (1, 7)\n",
      "data row count is 1\n"
     ]
    },
    {
     "data": {
      "text/html": [
       "<div>\n",
       "<style scoped>\n",
       "    .dataframe tbody tr th:only-of-type {\n",
       "        vertical-align: middle;\n",
       "    }\n",
       "\n",
       "    .dataframe tbody tr th {\n",
       "        vertical-align: top;\n",
       "    }\n",
       "\n",
       "    .dataframe thead th {\n",
       "        text-align: right;\n",
       "    }\n",
       "</style>\n",
       "<table border=\"1\" class=\"dataframe\">\n",
       "  <thead>\n",
       "    <tr style=\"text-align: right;\">\n",
       "      <th></th>\n",
       "      <th>COMPANY</th>\n",
       "      <th>STREET_ADDRESS</th>\n",
       "      <th>CITY</th>\n",
       "      <th>STATE</th>\n",
       "      <th>COUNTRY</th>\n",
       "      <th>POSTCODE</th>\n",
       "      <th>query</th>\n",
       "    </tr>\n",
       "  </thead>\n",
       "  <tbody>\n",
       "    <tr>\n",
       "      <td>0</td>\n",
       "      <td>University of Sussex</td>\n",
       "      <td>NaN</td>\n",
       "      <td>Brighton</td>\n",
       "      <td>NaN</td>\n",
       "      <td>UK</td>\n",
       "      <td>NaN</td>\n",
       "      <td>University of Sussex Brighton UK</td>\n",
       "    </tr>\n",
       "  </tbody>\n",
       "</table>\n",
       "</div>"
      ],
      "text/plain": [
       "                COMPANY  STREET_ADDRESS      CITY  STATE COUNTRY  POSTCODE  \\\n",
       "0  University of Sussex             NaN  Brighton    NaN      UK       NaN   \n",
       "\n",
       "                              query  \n",
       "0  University of Sussex Brighton UK  "
      ]
     },
     "execution_count": 7,
     "metadata": {},
     "output_type": "execute_result"
    }
   ],
   "source": [
    "#drop columns we won't use\n",
    "df = df.drop(columns=['DISTRICT','COUNTY'])\n",
    "                 \n",
    "#print row length and shape size\n",
    "print(\"data row x columns is {}\\ndata row count is {}\".format(df.shape,len(df.index)))\n",
    "\n",
    "#print first rows as sample\n",
    "df.head()"
   ]
  },
  {
   "cell_type": "markdown",
   "metadata": {},
   "source": [
    "Geopy returns us latitude, longitude coordinates and specific address. Let's create 3 columns in our df."
   ]
  },
  {
   "cell_type": "code",
   "execution_count": 8,
   "metadata": {
    "scrolled": true
   },
   "outputs": [
    {
     "data": {
      "text/html": [
       "<div>\n",
       "<style scoped>\n",
       "    .dataframe tbody tr th:only-of-type {\n",
       "        vertical-align: middle;\n",
       "    }\n",
       "\n",
       "    .dataframe tbody tr th {\n",
       "        vertical-align: top;\n",
       "    }\n",
       "\n",
       "    .dataframe thead th {\n",
       "        text-align: right;\n",
       "    }\n",
       "</style>\n",
       "<table border=\"1\" class=\"dataframe\">\n",
       "  <thead>\n",
       "    <tr style=\"text-align: right;\">\n",
       "      <th></th>\n",
       "      <th>COMPANY</th>\n",
       "      <th>STREET_ADDRESS</th>\n",
       "      <th>CITY</th>\n",
       "      <th>STATE</th>\n",
       "      <th>COUNTRY</th>\n",
       "      <th>POSTCODE</th>\n",
       "      <th>query</th>\n",
       "      <th>location_lat</th>\n",
       "      <th>location_long</th>\n",
       "      <th>location_address</th>\n",
       "    </tr>\n",
       "  </thead>\n",
       "  <tbody>\n",
       "    <tr>\n",
       "      <td>0</td>\n",
       "      <td>University of Sussex</td>\n",
       "      <td>NaN</td>\n",
       "      <td>Brighton</td>\n",
       "      <td>NaN</td>\n",
       "      <td>UK</td>\n",
       "      <td>NaN</td>\n",
       "      <td>University of Sussex Brighton UK</td>\n",
       "      <td></td>\n",
       "      <td></td>\n",
       "      <td></td>\n",
       "    </tr>\n",
       "  </tbody>\n",
       "</table>\n",
       "</div>"
      ],
      "text/plain": [
       "                COMPANY  STREET_ADDRESS      CITY  STATE COUNTRY  POSTCODE  \\\n",
       "0  University of Sussex             NaN  Brighton    NaN      UK       NaN   \n",
       "\n",
       "                              query location_lat location_long  \\\n",
       "0  University of Sussex Brighton UK                              \n",
       "\n",
       "  location_address  \n",
       "0                   "
      ]
     },
     "execution_count": 8,
     "metadata": {},
     "output_type": "execute_result"
    }
   ],
   "source": [
    "#create 2 new columns to store lat/long - initalise to null\n",
    "df['location_lat'] = \"\"\n",
    "df['location_long'] = \"\"\n",
    "df['location_address'] = \"\"\n",
    "\n",
    "#print first rows to sample\n",
    "df.head()"
   ]
  },
  {
   "cell_type": "markdown",
   "metadata": {},
   "source": [
    "## Second, use Geopy to fetch geocode data"
   ]
  },
  {
   "cell_type": "code",
   "execution_count": 9,
   "metadata": {
    "scrolled": false
   },
   "outputs": [
    {
     "data": {
      "text/html": [
       "<div>\n",
       "<style scoped>\n",
       "    .dataframe tbody tr th:only-of-type {\n",
       "        vertical-align: middle;\n",
       "    }\n",
       "\n",
       "    .dataframe tbody tr th {\n",
       "        vertical-align: top;\n",
       "    }\n",
       "\n",
       "    .dataframe thead th {\n",
       "        text-align: right;\n",
       "    }\n",
       "</style>\n",
       "<table border=\"1\" class=\"dataframe\">\n",
       "  <thead>\n",
       "    <tr style=\"text-align: right;\">\n",
       "      <th></th>\n",
       "      <th>COMPANY</th>\n",
       "      <th>STREET_ADDRESS</th>\n",
       "      <th>CITY</th>\n",
       "      <th>STATE</th>\n",
       "      <th>COUNTRY</th>\n",
       "      <th>POSTCODE</th>\n",
       "      <th>query</th>\n",
       "      <th>location_lat</th>\n",
       "      <th>location_long</th>\n",
       "      <th>location_address</th>\n",
       "    </tr>\n",
       "  </thead>\n",
       "  <tbody>\n",
       "    <tr>\n",
       "      <td>0</td>\n",
       "      <td>University of Sussex</td>\n",
       "      <td>NaN</td>\n",
       "      <td>Brighton</td>\n",
       "      <td>NaN</td>\n",
       "      <td>UK</td>\n",
       "      <td>NaN</td>\n",
       "      <td>University of Sussex Brighton UK</td>\n",
       "      <td>50.868</td>\n",
       "      <td>-0.0877856</td>\n",
       "      <td>University of Sussex, Southern Ring Road, Brig...</td>\n",
       "    </tr>\n",
       "  </tbody>\n",
       "</table>\n",
       "</div>"
      ],
      "text/plain": [
       "                COMPANY  STREET_ADDRESS      CITY  STATE COUNTRY  POSTCODE  \\\n",
       "0  University of Sussex             NaN  Brighton    NaN      UK       NaN   \n",
       "\n",
       "                              query location_lat location_long  \\\n",
       "0  University of Sussex Brighton UK       50.868    -0.0877856   \n",
       "\n",
       "                                    location_address  \n",
       "0  University of Sussex, Southern Ring Road, Brig...  "
      ]
     },
     "execution_count": 9,
     "metadata": {},
     "output_type": "execute_result"
    }
   ],
   "source": [
    "'''\n",
    "**Get Lat/Long Data with GeoPy**\n",
    "---------------------\n",
    "\n",
    "the code below calls a geopy API using a concatenated column of address values. We use this column as a query key \n",
    "to pull back cooresponding lat/long coordinates.\n",
    "'''\n",
    "\n",
    "geolocator = Nominatim(user_agent=\"myApp\")\n",
    "\n",
    "for i in df.index:\n",
    "    try:\n",
    "        #tries fetch address from geopy\n",
    "        location = geolocator.geocode(df['query'][i])\n",
    "        \n",
    "        #append lat/long to column using dataframe location\n",
    "        df.loc[i,'location_lat'] = location.latitude\n",
    "        df.loc[i,'location_long'] = location.longitude\n",
    "        df.loc[i,'location_address'] = location.address\n",
    "    except:\n",
    "        #catches exception for the case where no value is returned\n",
    "        #appends null value to column\n",
    "        df.loc[i,'location_lat'] = \"\"\n",
    "        df.loc[i,'location_long'] = \"\"\n",
    "        df.loc[i,'location_address'] = \"\"\n",
    "\n",
    "#print first rows as sample\n",
    "df.head()"
   ]
  },
  {
   "cell_type": "markdown",
   "metadata": {},
   "source": [
    "## You're done! Now save your results to a new data file."
   ]
  },
  {
   "cell_type": "code",
   "execution_count": 10,
   "metadata": {},
   "outputs": [],
   "source": [
    "#write the contents thus far to new csv file\n",
    "df.to_csv('geopy_data.csv')"
   ]
  },
  {
   "cell_type": "markdown",
   "metadata": {},
   "source": [
    "Check your local directory to see if the new file was saved properly. "
   ]
  },
  {
   "cell_type": "markdown",
   "metadata": {},
   "source": [
    "#### Resources:\n",
    "Check out the [GeoPy documentation](https://geopy.readthedocs.io/en/stable/#data) to discover additional data points (e.g., apparently you can fetch `altitude` as well), that can be queried using this API. \n",
    "\n",
    "TIP: apparently geopy can also be used for [**Calculating Distance**](https://geopy.readthedocs.io/en/stable/#module-geopy.distance).\n",
    "- Geopy can calculate geodesic distance between two points using the geodesic distance or the great-circle distance, with a default of the geodesic distance available as the function geopy.distance.distance."
   ]
  },
  {
   "cell_type": "code",
   "execution_count": null,
   "metadata": {},
   "outputs": [],
   "source": []
  }
 ],
 "metadata": {
  "kernelspec": {
   "display_name": "Python 3",
   "language": "python",
   "name": "python3"
  },
  "language_info": {
   "codemirror_mode": {
    "name": "ipython",
    "version": 3
   },
   "file_extension": ".py",
   "mimetype": "text/x-python",
   "name": "python",
   "nbconvert_exporter": "python",
   "pygments_lexer": "ipython3",
   "version": "3.7.4"
  }
 },
 "nbformat": 4,
 "nbformat_minor": 2
}
