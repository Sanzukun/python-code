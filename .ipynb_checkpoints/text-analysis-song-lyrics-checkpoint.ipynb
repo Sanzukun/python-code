{
 "cells": [
  {
   "cell_type": "markdown",
   "metadata": {},
   "source": [
    "### Overview\n",
    "The task is to give yourself a time where you can listen to music either undistracted (e.g., headphones on a train) or distracted (e.g., backdrop). In this time where you are listening to music, you should have a computer available as you will need to copy/paste lyrics from the web into this programming tool.\n",
    "\n",
    "#### Steps:\n",
    "1. for each song you play in this period of time, find the lyrics from any website online, paste into a text file and put save/put that file in a folder called `song_lyrics_all_docs`"
   ]
  },
  {
   "cell_type": "code",
   "execution_count": 11,
   "metadata": {},
   "outputs": [
    {
     "name": "stdout",
     "output_type": "stream",
     "text": [
      "<class 'str'>\n",
      "\n"
     ]
    }
   ],
   "source": [
    "import os\n",
    "\n",
    "# List all files in a directory using os.listdir\n",
    "# basepath = 'song_lyrics_all_docs/'\n",
    "# for f in os.listdir(basepath):\n",
    "#     if os.path.isfile(os.path.join(basepath, f)):\n",
    "#         print(f)\n",
    "\n",
    "basepath = 'song_lyrics_all_docs/'\n",
    "for f in os.listdir(basepath):\n",
    "    fdata = open(f, 'r').read()\n",
    "    print(fdata)"
   ]
  },
  {
   "cell_type": "code",
   "execution_count": null,
   "metadata": {},
   "outputs": [],
   "source": [
    "\n",
    "        fdata = open(f, 'r').read()\n",
    "        print(fdata)"
   ]
  }
 ],
 "metadata": {
  "kernelspec": {
   "display_name": "Python 3",
   "language": "python",
   "name": "python3"
  },
  "language_info": {
   "codemirror_mode": {
    "name": "ipython",
    "version": 3
   },
   "file_extension": ".py",
   "mimetype": "text/x-python",
   "name": "python",
   "nbconvert_exporter": "python",
   "pygments_lexer": "ipython3",
   "version": "3.7.4"
  }
 },
 "nbformat": 4,
 "nbformat_minor": 2
}
