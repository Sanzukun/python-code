{
 "cells": [
  {
   "cell_type": "markdown",
   "metadata": {},
   "source": [
    "git repository name at URL https://github.com/tiffsea/python-code\n",
    "# python-code"
   ]
  },
  {
   "cell_type": "markdown",
   "metadata": {},
   "source": [
    "## join strings\n",
    "Before you start with this demo, the following local installations are required:\n",
    "- NLTK - https://www.nltk.org/install.html"
   ]
  },
  {
   "cell_type": "code",
   "execution_count": 1,
   "metadata": {},
   "outputs": [],
   "source": [
    "# for when you want to merge a list into a long string\n",
    "my_list_of_chars = ['w','o','w'] #notice how chars are notated by '' and when used in lists we separate with ,\n",
    "\n",
    "# demostrate join and save joined chars into a merged string\n",
    "merged_long_str = \"\".join(my_list_of_chars)"
   ]
  },
  {
   "cell_type": "code",
   "execution_count": 2,
   "metadata": {},
   "outputs": [
    {
     "name": "stdout",
     "output_type": "stream",
     "text": [
      "w\n",
      "o\n",
      "w\n"
     ]
    }
   ],
   "source": [
    "# print to console each char\n",
    "for char in my_list_of_chars:\n",
    "    print(char) #notice each char prints a new line"
   ]
  },
  {
   "cell_type": "code",
   "execution_count": 3,
   "metadata": {},
   "outputs": [
    {
     "name": "stdout",
     "output_type": "stream",
     "text": [
      "wow\n"
     ]
    }
   ],
   "source": [
    "# to avoid printing a char to a new line each time we iterate through our for loop, we can use our new merged string\n",
    "print(merged_long_str)"
   ]
  },
  {
   "cell_type": "markdown",
   "metadata": {},
   "source": [
    "Now let's try the same logic instead now with a list of chars that contains 2 sentences. \n",
    "\n",
    "`\"wow! this program is fire.\"`\n",
    "\n",
    "For this demo - instead of typing out a long list of 2 sentences manually, let's use an embedded list to break a part a string of 2 sentences into chars."
   ]
  },
  {
   "cell_type": "code",
   "execution_count": 4,
   "metadata": {},
   "outputs": [],
   "source": [
    "# create a string of 2 sentences\n",
    "sentences = \"wow! this program is fire.\"\n",
    "\n",
    "# get a list of chars from the 2 sentences using embedded lists\n",
    "my_list_of_chars = [char for char in sentences] \n",
    "\n",
    "# demonstrate join\n",
    "merged_long_str = \"\".join(my_list_of_chars)"
   ]
  },
  {
   "cell_type": "code",
   "execution_count": 5,
   "metadata": {},
   "outputs": [
    {
     "name": "stdout",
     "output_type": "stream",
     "text": [
      "w\n",
      "o\n",
      "w\n",
      "!\n",
      " \n",
      "t\n",
      "h\n",
      "i\n",
      "s\n",
      " \n",
      "p\n",
      "r\n",
      "o\n",
      "g\n",
      "r\n",
      "a\n",
      "m\n",
      " \n",
      "i\n",
      "s\n",
      " \n",
      "f\n",
      "i\n",
      "r\n",
      "e\n",
      ".\n"
     ]
    }
   ],
   "source": [
    "for char in my_list_of_chars:\n",
    "    print(char)"
   ]
  },
  {
   "cell_type": "code",
   "execution_count": 6,
   "metadata": {},
   "outputs": [
    {
     "name": "stdout",
     "output_type": "stream",
     "text": [
      "wow! this program is fire.\n"
     ]
    }
   ],
   "source": [
    "print(merged_long_str)"
   ]
  },
  {
   "cell_type": "markdown",
   "metadata": {},
   "source": [
    "A few things we learned from the demo above:\n",
    "- `\"\".join()`, when used for list of chars, maintains spaces\n",
    " -  as a result, printing the joined chars will give us a functional sentence. i.e., human interpretable sentence with spaces"
   ]
  }
 ],
 "metadata": {
  "kernelspec": {
   "display_name": "Python 3",
   "language": "python",
   "name": "python3"
  },
  "language_info": {
   "codemirror_mode": {
    "name": "ipython",
    "version": 3
   },
   "file_extension": ".py",
   "mimetype": "text/x-python",
   "name": "python",
   "nbconvert_exporter": "python",
   "pygments_lexer": "ipython3",
   "version": "3.7.4"
  }
 },
 "nbformat": 4,
 "nbformat_minor": 2
}
